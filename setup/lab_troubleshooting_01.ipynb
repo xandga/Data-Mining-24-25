{
 "cells": [
  {
   "cell_type": "markdown",
   "id": "ee287c4c-891e-4792-b7b6-59c55936449a",
   "metadata": {},
   "source": [
    "# Step 0: BEFORE YOU START\n",
    "\n",
    "Make sure you are running Jupyter using the DM2425 environment. \n",
    "\n",
    "## Step 0.1:\n",
    "\n",
    "From Anaconda Navigator, select the DM2425 environment, then launch Jupyter Notebook (or Jupyter Lab).\n",
    "\n",
    "**OR** using Anaconda Prompt (if Windows) or Terminal app (Mac), run:\n",
    "\n",
    "`conda activate DM2425`\n",
    "\n",
    "## Step 0.2:\n",
    "\n",
    "THEN run\n",
    "\n",
    "`jupyter notebook`\n",
    "\n",
    "## Step 0.3:\n",
    "\n",
    "THEN open this notebook again.\n",
    "\n",
    "\n",
    "---\n",
    "\n",
    "# Then start here:\n",
    "\n",
    "## Step 1:\n",
    "\n",
    "Run the next cells one at a time.\n",
    "\n"
   ]
  },
  {
   "cell_type": "code",
   "execution_count": null,
   "id": "a274c7a6-ed47-4374-b0ea-17964f32c4b1",
   "metadata": {},
   "outputs": [],
   "source": [
    "import sys\n",
    "print(sys.executable)"
   ]
  },
  {
   "cell_type": "code",
   "execution_count": null,
   "id": "a75c0296-5560-4972-8b89-eaced62bd449",
   "metadata": {},
   "outputs": [],
   "source": [
    "%conda info"
   ]
  },
  {
   "cell_type": "code",
   "execution_count": null,
   "id": "1c286d4e-1e56-4eff-8035-15e90e1032ca",
   "metadata": {},
   "outputs": [],
   "source": [
    "%conda info --envs\n"
   ]
  },
  {
   "cell_type": "markdown",
   "id": "cd7dec22-b88e-42c5-9cb2-359e89b4e217",
   "metadata": {},
   "source": [
    "## Step 2\n",
    "\n",
    "### Test that the following is still giving an error"
   ]
  },
  {
   "cell_type": "code",
   "execution_count": null,
   "id": "15a6b7ca-b7ee-4815-a6f4-6cab9733e1d0",
   "metadata": {},
   "outputs": [],
   "source": [
    "from ydata_profiling import ProfileReport"
   ]
  },
  {
   "cell_type": "markdown",
   "id": "722fc6b2-d81b-4f9c-8de9-c9b47f32f67c",
   "metadata": {},
   "source": [
    "## Step 2.1a\n",
    "\n",
    "### IF NO: \n",
    "\n",
    "Great!\n",
    "\n",
    "Make sure you are using the DM2425 environment whenever running our lab notebooks."
   ]
  },
  {
   "cell_type": "markdown",
   "id": "b6446d3f-504b-4699-8140-ade040329f8c",
   "metadata": {},
   "source": [
    "## Step 2.1b\n",
    "\n",
    "### IF yes, run the next cells one at a time"
   ]
  },
  {
   "cell_type": "code",
   "execution_count": null,
   "id": "7f8294d7-fa41-4034-962f-63b004f97d58",
   "metadata": {},
   "outputs": [],
   "source": [
    "%conda list numpy\n",
    "%conda list python\n",
    "%conda list pandas\n",
    "%conda list ydata"
   ]
  },
  {
   "cell_type": "code",
   "execution_count": null,
   "id": "67f0b43c-fe1e-4029-a4a7-27c0981b13cd",
   "metadata": {},
   "outputs": [],
   "source": [
    "!python -m ensurepip --upgrade"
   ]
  },
  {
   "cell_type": "code",
   "execution_count": null,
   "id": "39a7e237-965d-43ff-a9b3-893311f6ff82",
   "metadata": {},
   "outputs": [],
   "source": [
    "!python -m pip install --upgrade setuptools"
   ]
  },
  {
   "cell_type": "code",
   "execution_count": null,
   "id": "7dbb417e-5c2b-4dbf-9316-9d55d4033e88",
   "metadata": {},
   "outputs": [],
   "source": [
    "%conda install ydata-profiling==4.8.3"
   ]
  },
  {
   "cell_type": "markdown",
   "id": "d42a42b5-f320-41d9-8c5d-fcbff1e0c6e7",
   "metadata": {},
   "source": [
    "## Step 2.2\n",
    "\n",
    "### If the `conda install ydata-profiling` cell gives an error\n",
    "\n",
    "And the error is saying something about `numpy` versions, run the next cell.\n",
    "\n",
    "**If NOT, proceed to Step 3.**"
   ]
  },
  {
   "cell_type": "code",
   "execution_count": null,
   "id": "8fb6a6c1-5d42-4f04-bbd6-6c7493f2d678",
   "metadata": {},
   "outputs": [],
   "source": [
    "%conda install -c conda-forge numpy==1.26.4 pandas==2.2"
   ]
  },
  {
   "cell_type": "code",
   "execution_count": null,
   "id": "67e18fa3-cefb-43b5-a95c-5b60751fd1d8",
   "metadata": {},
   "outputs": [],
   "source": [
    "%conda install ydata-profiling==4.8.3"
   ]
  },
  {
   "cell_type": "markdown",
   "id": "bc386c5e-7062-4084-a3c2-01f692b4007a",
   "metadata": {},
   "source": [
    "### Step 2.2.1:\n",
    "\n",
    "#### If this STILL gives error: \n",
    "\n",
    "Run the next cell, then save the notebook and email it to me.\n"
   ]
  },
  {
   "cell_type": "code",
   "execution_count": null,
   "id": "2571f757-efd5-4436-9943-a0d9983a92a4",
   "metadata": {},
   "outputs": [],
   "source": [
    "%conda list"
   ]
  },
  {
   "cell_type": "markdown",
   "id": "640862d7-147c-4707-9d96-032ec1e5a999",
   "metadata": {},
   "source": [
    "### If NO error\n",
    "\n",
    "Proceed to Step 3."
   ]
  },
  {
   "cell_type": "code",
   "execution_count": null,
   "id": "3f15a000-98ba-4214-8245-0767c5b1077c",
   "metadata": {},
   "outputs": [],
   "source": []
  },
  {
   "cell_type": "markdown",
   "id": "d1faeebb-9f7a-4d7f-bd16-a4ba7e25c611",
   "metadata": {},
   "source": [
    "## Step 3:\n",
    "\n",
    "### Make sure to save the notebook"
   ]
  },
  {
   "attachments": {
    "36bd2582-2c41-48a1-93ef-e7d7ab6ea026.png": {
     "image/png": "[encoded data removed]"
    }
   },
   "cell_type": "markdown",
   "id": "95f63083-154f-4db8-bf32-6d7cba298856",
   "metadata": {},
   "source": [
    "## Step 4:\n",
    "\n",
    "### Restart the kernel \n",
    "\n",
    "Go to the \"Kernel\" menu in Jupyter, then select Restart Kernel\n",
    "\n",
    "![image.png](attachment:36bd2582-2c41-48a1-93ef-e7d7ab6ea026.png)"
   ]
  },
  {
   "cell_type": "markdown",
   "id": "0a1f9397-9675-48ab-9d6b-a20026960e65",
   "metadata": {},
   "source": [
    "## Step 5:\n",
    "\n",
    "Run this next cell after restarting the kernel\n"
   ]
  },
  {
   "cell_type": "code",
   "execution_count": null,
   "id": "82256945-1715-4621-b333-25c909661708",
   "metadata": {},
   "outputs": [],
   "source": [
    "from ydata_profiling import ProfileReport"
   ]
  },
  {
   "cell_type": "markdown",
   "id": "8f028f59-d54a-4a9f-97ee-eedf82a092f9",
   "metadata": {},
   "source": [
    "## Step 6:\n",
    "\n",
    "### IF you are still having error, run the next cell\n",
    "\n",
    "Then save the notebook and email it to me. \n",
    "\n",
    "Thanks!"
   ]
  },
  {
   "cell_type": "code",
   "execution_count": null,
   "id": "8fddf4f4-b2f7-41cd-bb8c-dbc931efb067",
   "metadata": {},
   "outputs": [],
   "source": [
    "%conda list"
   ]
  },
  {
   "cell_type": "code",
   "execution_count": null,
   "id": "2284ef45-7fc3-4842-8cc3-e58973b554e3",
   "metadata": {},
   "outputs": [],
   "source": []
  }
 ],
 "metadata": {
  "kernelspec": {
   "display_name": "Python 3 (ipykernel)",
   "language": "python",
   "name": "python3"
  },
  "language_info": {
   "codemirror_mode": {
    "name": "ipython",
    "version": 3
   },
   "file_extension": ".py",
   "mimetype": "text/x-python",
   "name": "python",
   "nbconvert_exporter": "python",
   "pygments_lexer": "ipython3",
   "version": "3.12.7"
  },
  "widgets": {
   "application/vnd.jupyter.widget-state+json": {
    "state": {},
    "version_major": 2,
    "version_minor": 0
   }
  }
 },
 "nbformat": 4,
 "nbformat_minor": 5
}
